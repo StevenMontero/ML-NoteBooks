{
 "cells": [
  {
   "cell_type": "markdown",
   "metadata": {},
   "source": [
    "# Modelos de Regrecion Lineal\n",
    "\n",
    "## Modelo con datos simulados \n",
    "* $y = \\alpha + \\beta *x$\n",
    "* x= 100 valores distribuidos segun un N(1.5,2.5)\n",
    "* Ye = 5 + 1.9 * x \n",
    "* e (error/res) estara destrribuido segun una N(0,0.8)"
   ]
  },
  {
   "cell_type": "code",
   "execution_count": 1,
   "metadata": {},
   "outputs": [],
   "source": [
    "import pandas as pd\n",
    "import numpy as np"
   ]
  },
  {
   "cell_type": "code",
   "execution_count": 2,
   "metadata": {},
   "outputs": [],
   "source": [
    "x = 1.5 + 2.5 * np.random.randn(100)"
   ]
  },
  {
   "cell_type": "code",
   "execution_count": 3,
   "metadata": {},
   "outputs": [],
   "source": [
    "res = 0 + 0.8 * np.random.randn(100)"
   ]
  },
  {
   "cell_type": "code",
   "execution_count": 4,
   "metadata": {},
   "outputs": [],
   "source": [
    "y_pred = 5 + 1.9 * x"
   ]
  },
  {
   "cell_type": "code",
   "execution_count": 5,
   "metadata": {},
   "outputs": [],
   "source": [
    "y_act = 5 + 1.9 * x + res"
   ]
  },
  {
   "cell_type": "code",
   "execution_count": 6,
   "metadata": {},
   "outputs": [],
   "source": [
    "x_list = x.tolist()\n",
    "y_pred_list = y_pred.tolist()\n",
    "y_act_list = y_act.tolist() "
   ]
  },
  {
   "cell_type": "code",
   "execution_count": 7,
   "metadata": {},
   "outputs": [],
   "source": [
    "data = pd.DataFrame(\n",
    "    {\n",
    "        \"x\" : x_list,\n",
    "        \"y_actual\" : y_act_list,\n",
    "        \"y_prediccion\" : y_pred_list\n",
    "    }\n",
    ")"
   ]
  },
  {
   "cell_type": "code",
   "execution_count": 8,
   "metadata": {},
   "outputs": [
    {
     "data": {
      "text/html": [
       "<div>\n",
       "<style scoped>\n",
       "    .dataframe tbody tr th:only-of-type {\n",
       "        vertical-align: middle;\n",
       "    }\n",
       "\n",
       "    .dataframe tbody tr th {\n",
       "        vertical-align: top;\n",
       "    }\n",
       "\n",
       "    .dataframe thead th {\n",
       "        text-align: right;\n",
       "    }\n",
       "</style>\n",
       "<table border=\"1\" class=\"dataframe\">\n",
       "  <thead>\n",
       "    <tr style=\"text-align: right;\">\n",
       "      <th></th>\n",
       "      <th>x</th>\n",
       "      <th>y_actual</th>\n",
       "      <th>y_prediccion</th>\n",
       "    </tr>\n",
       "  </thead>\n",
       "  <tbody>\n",
       "    <tr>\n",
       "      <th>0</th>\n",
       "      <td>-0.693116</td>\n",
       "      <td>5.621949</td>\n",
       "      <td>3.683081</td>\n",
       "    </tr>\n",
       "    <tr>\n",
       "      <th>1</th>\n",
       "      <td>2.492820</td>\n",
       "      <td>9.866570</td>\n",
       "      <td>9.736358</td>\n",
       "    </tr>\n",
       "    <tr>\n",
       "      <th>2</th>\n",
       "      <td>1.622372</td>\n",
       "      <td>9.326157</td>\n",
       "      <td>8.082506</td>\n",
       "    </tr>\n",
       "    <tr>\n",
       "      <th>3</th>\n",
       "      <td>-0.660985</td>\n",
       "      <td>5.095052</td>\n",
       "      <td>3.744128</td>\n",
       "    </tr>\n",
       "    <tr>\n",
       "      <th>4</th>\n",
       "      <td>1.378348</td>\n",
       "      <td>8.870790</td>\n",
       "      <td>7.618862</td>\n",
       "    </tr>\n",
       "  </tbody>\n",
       "</table>\n",
       "</div>"
      ],
      "text/plain": [
       "          x  y_actual  y_prediccion\n",
       "0 -0.693116  5.621949      3.683081\n",
       "1  2.492820  9.866570      9.736358\n",
       "2  1.622372  9.326157      8.082506\n",
       "3 -0.660985  5.095052      3.744128\n",
       "4  1.378348  8.870790      7.618862"
      ]
     },
     "execution_count": 8,
     "metadata": {},
     "output_type": "execute_result"
    }
   ],
   "source": [
    "data.head()"
   ]
  },
  {
   "cell_type": "code",
   "execution_count": 9,
   "metadata": {},
   "outputs": [],
   "source": [
    "import matplotlib.pyplot as plt"
   ]
  },
  {
   "cell_type": "code",
   "execution_count": 10,
   "metadata": {},
   "outputs": [],
   "source": [
    "y_mean = [np.mean(y_act) for i in range(1, len(x_list) + 1)]"
   ]
  },
  {
   "cell_type": "code",
   "execution_count": 11,
   "metadata": {},
   "outputs": [
    {
     "data": {
      "text/plain": [
       "Text(0.5, 1.0, 'Valor actual vs prediccion')"
      ]
     },
     "execution_count": 11,
     "metadata": {},
     "output_type": "execute_result"
    },
    {
     "data": {
      "image/png": "[encoded data removed]",
      "text/plain": [
       "<Figure size 432x288 with 1 Axes>"
      ]
     },
     "metadata": {
      "needs_background": "light"
     },
     "output_type": "display_data"
    }
   ],
   "source": [
    "%matplotlib inline\n",
    "plt.plot(x,y_pred)\n",
    "plt.plot(x,y_act,\"ro\")\n",
    "plt.plot(x,y_mean,\"g\")\n",
    "plt.title(\"Valor actual vs prediccion\")"
   ]
  },
  {
   "cell_type": "markdown",
   "metadata": {},
   "source": [
    "## ¿Como es la predicción de buena?\n",
    "* SST = SSD + SSR\n",
    "* SST : Variabilidad de los datos con respecto de su media\n",
    "* SSD : Diferencia entre los datos originales y las predicciones que el modelo no es capaz de explicar (errores que deberían seguir una distribución normal)\n",
    "* SSR : Diferencia entre la regresión y el valor medio que el modelo busca explicar\n",
    "* R2 = SSR / SST, coeficiente de determinación entre 0 y 1\n",
    "\n",
    "$SST = \\sum(y_i - \\overline{y})^2 $ , $SSR = \\sum(y(y_i) - \\overline{y})^2 $,\n",
    "$SSD = \\sum(y_i - y(\\overline{y}))^2 $"
   ]
  },
  {
   "cell_type": "code",
   "execution_count": 12,
   "metadata": {},
   "outputs": [],
   "source": [
    "data[\"SSR\"] = (data[\"y_prediccion\"] - np.mean(data[\"y_actual\"]))**2\n",
    "data[\"SSD\"] =(data[\"y_prediccion\"] -data[\"y_actual\"])**2\n",
    "data[\"SST\"] = (data[\"y_actual\"] - np.mean(data[\"y_actual\"]))**2"
   ]
  },
  {
   "cell_type": "code",
   "execution_count": 13,
   "metadata": {},
   "outputs": [
    {
     "data": {
      "text/html": [
       "<div>\n",
       "<style scoped>\n",
       "    .dataframe tbody tr th:only-of-type {\n",
       "        vertical-align: middle;\n",
       "    }\n",
       "\n",
       "    .dataframe tbody tr th {\n",
       "        vertical-align: top;\n",
       "    }\n",
       "\n",
       "    .dataframe thead th {\n",
       "        text-align: right;\n",
       "    }\n",
       "</style>\n",
       "<table border=\"1\" class=\"dataframe\">\n",
       "  <thead>\n",
       "    <tr style=\"text-align: right;\">\n",
       "      <th></th>\n",
       "      <th>x</th>\n",
       "      <th>y_actual</th>\n",
       "      <th>y_prediccion</th>\n",
       "      <th>SSR</th>\n",
       "      <th>SSD</th>\n",
       "      <th>SST</th>\n",
       "    </tr>\n",
       "  </thead>\n",
       "  <tbody>\n",
       "    <tr>\n",
       "      <th>0</th>\n",
       "      <td>-0.693116</td>\n",
       "      <td>5.621949</td>\n",
       "      <td>3.683081</td>\n",
       "      <td>11.910145</td>\n",
       "      <td>3.759213</td>\n",
       "      <td>2.286866</td>\n",
       "    </tr>\n",
       "    <tr>\n",
       "      <th>1</th>\n",
       "      <td>2.492820</td>\n",
       "      <td>9.866570</td>\n",
       "      <td>9.736358</td>\n",
       "      <td>6.771285</td>\n",
       "      <td>0.016955</td>\n",
       "      <td>7.465910</td>\n",
       "    </tr>\n",
       "    <tr>\n",
       "      <th>2</th>\n",
       "      <td>1.622372</td>\n",
       "      <td>9.326157</td>\n",
       "      <td>8.082506</td>\n",
       "      <td>0.899307</td>\n",
       "      <td>1.546667</td>\n",
       "      <td>4.804727</td>\n",
       "    </tr>\n",
       "    <tr>\n",
       "      <th>3</th>\n",
       "      <td>-0.660985</td>\n",
       "      <td>5.095052</td>\n",
       "      <td>3.744128</td>\n",
       "      <td>11.492506</td>\n",
       "      <td>1.824994</td>\n",
       "      <td>4.158078</td>\n",
       "    </tr>\n",
       "    <tr>\n",
       "      <th>4</th>\n",
       "      <td>1.378348</td>\n",
       "      <td>8.870790</td>\n",
       "      <td>7.618862</td>\n",
       "      <td>0.234908</td>\n",
       "      <td>1.567325</td>\n",
       "      <td>3.015787</td>\n",
       "    </tr>\n",
       "  </tbody>\n",
       "</table>\n",
       "</div>"
      ],
      "text/plain": [
       "          x  y_actual  y_prediccion        SSR       SSD       SST\n",
       "0 -0.693116  5.621949      3.683081  11.910145  3.759213  2.286866\n",
       "1  2.492820  9.866570      9.736358   6.771285  0.016955  7.465910\n",
       "2  1.622372  9.326157      8.082506   0.899307  1.546667  4.804727\n",
       "3 -0.660985  5.095052      3.744128  11.492506  1.824994  4.158078\n",
       "4  1.378348  8.870790      7.618862   0.234908  1.567325  3.015787"
      ]
     },
     "execution_count": 13,
     "metadata": {},
     "output_type": "execute_result"
    }
   ],
   "source": [
    "data.head()"
   ]
  },
  {
   "cell_type": "code",
   "execution_count": 14,
   "metadata": {},
   "outputs": [],
   "source": [
    "SSR = sum(data[\"SSR\"])\n",
    "SSD = sum(data[\"SSD\"])\n",
    "SST = sum(data[\"SST\"])"
   ]
  },
  {
   "cell_type": "code",
   "execution_count": 15,
   "metadata": {},
   "outputs": [
    {
     "data": {
      "text/plain": [
       "2089.8767253047017"
      ]
     },
     "execution_count": 15,
     "metadata": {},
     "output_type": "execute_result"
    }
   ],
   "source": [
    "SSR"
   ]
  },
  {
   "cell_type": "code",
   "execution_count": 16,
   "metadata": {},
   "outputs": [
    {
     "data": {
      "text/plain": [
       "77.88599552299532"
      ]
     },
     "execution_count": 16,
     "metadata": {},
     "output_type": "execute_result"
    }
   ],
   "source": [
    "SSD"
   ]
  },
  {
   "cell_type": "code",
   "execution_count": 17,
   "metadata": {},
   "outputs": [
    {
     "data": {
      "text/plain": [
       "2190.931215882317"
      ]
     },
     "execution_count": 17,
     "metadata": {},
     "output_type": "execute_result"
    }
   ],
   "source": [
    "SST"
   ]
  },
  {
   "cell_type": "code",
   "execution_count": 18,
   "metadata": {},
   "outputs": [
    {
     "data": {
      "text/plain": [
       "2167.762720827697"
      ]
     },
     "execution_count": 18,
     "metadata": {},
     "output_type": "execute_result"
    }
   ],
   "source": [
    " SSR + SSD"
   ]
  },
  {
   "cell_type": "code",
   "execution_count": 19,
   "metadata": {},
   "outputs": [],
   "source": [
    "R2 = SSR/SST"
   ]
  },
  {
   "cell_type": "code",
   "execution_count": 20,
   "metadata": {},
   "outputs": [
    {
     "data": {
      "text/plain": [
       "0.953876009504516"
      ]
     },
     "execution_count": 20,
     "metadata": {},
     "output_type": "execute_result"
    }
   ],
   "source": [
    "R2"
   ]
  },
  {
   "cell_type": "code",
   "execution_count": 21,
   "metadata": {},
   "outputs": [
    {
     "data": {
      "text/plain": [
       "(array([ 2.,  2.,  3., 15., 11., 18., 26., 11.,  9.,  3.]),\n",
       " array([-2.66502571, -2.20863062, -1.75223552, -1.29584043, -0.83944533,\n",
       "        -0.38305024,  0.07334486,  0.52973995,  0.98613505,  1.44253014,\n",
       "         1.89892524]),\n",
       " <a list of 10 Patch objects>)"
      ]
     },
     "execution_count": 21,
     "metadata": {},
     "output_type": "execute_result"
    },
    {
     "data": {
      "image/png": "[encoded data removed]",
      "text/plain": [
       "<Figure size 432x288 with 1 Axes>"
      ]
     },
     "metadata": {
      "needs_background": "light"
     },
     "output_type": "display_data"
    }
   ],
   "source": [
    "plt.hist(data[\"y_prediccion\"]-data[\"y_actual\"])"
   ]
  },
  {
   "cell_type": "markdown",
   "metadata": {},
   "source": [
    "# Obteniendo la recta de regrecion \n",
    "\n",
    "* y = $ \\alpha + \\beta*x$\n",
    "* $\\beta$ = sum(($ x_i$ - $\\overline{x}$)*($ y_i$ - $\\overline{y}$))/sum($x_i - \\overline{x})^2$)\n",
    "* $\\alpha$ = $\\overline{y}$ - b*$\\overline{x}$\n",
    "\n",
    "\n",
    "$\\overline{x}$ = peomdio de X\n",
    "\n",
    "$\\overline{y}$ = promediode Y"
   ]
  },
  {
   "cell_type": "code",
   "execution_count": 22,
   "metadata": {},
   "outputs": [
    {
     "data": {
      "text/plain": [
       "(1.0958898769815741, 7.134188347485923)"
      ]
     },
     "execution_count": 22,
     "metadata": {},
     "output_type": "execute_result"
    }
   ],
   "source": [
    "x_mean = np.mean(data[\"x\"])\n",
    "y_mean_ac = np.mean(data[\"y_actual\"])\n",
    "x_mean,y_mean_ac"
   ]
  },
  {
   "cell_type": "code",
   "execution_count": 23,
   "metadata": {},
   "outputs": [],
   "source": [
    "data[\"beta_n\"] = (data[\"x\"]-x_mean)*(data[\"y_actual\"]-y_mean_ac)  #beta_n = numerador \n",
    "data[\"beta_d\"] = (data[\"x\"]-x_mean)**2"
   ]
  },
  {
   "cell_type": "code",
   "execution_count": 24,
   "metadata": {},
   "outputs": [
    {
     "data": {
      "text/html": [
       "<div>\n",
       "<style scoped>\n",
       "    .dataframe tbody tr th:only-of-type {\n",
       "        vertical-align: middle;\n",
       "    }\n",
       "\n",
       "    .dataframe tbody tr th {\n",
       "        vertical-align: top;\n",
       "    }\n",
       "\n",
       "    .dataframe thead th {\n",
       "        text-align: right;\n",
       "    }\n",
       "</style>\n",
       "<table border=\"1\" class=\"dataframe\">\n",
       "  <thead>\n",
       "    <tr style=\"text-align: right;\">\n",
       "      <th></th>\n",
       "      <th>x</th>\n",
       "      <th>y_actual</th>\n",
       "      <th>y_prediccion</th>\n",
       "      <th>SSR</th>\n",
       "      <th>SSD</th>\n",
       "      <th>SST</th>\n",
       "      <th>beta_n</th>\n",
       "      <th>beta_d</th>\n",
       "    </tr>\n",
       "  </thead>\n",
       "  <tbody>\n",
       "    <tr>\n",
       "      <th>0</th>\n",
       "      <td>-0.693116</td>\n",
       "      <td>5.621949</td>\n",
       "      <td>3.683081</td>\n",
       "      <td>11.910145</td>\n",
       "      <td>3.759213</td>\n",
       "      <td>2.286866</td>\n",
       "      <td>2.705403</td>\n",
       "      <td>3.200540</td>\n",
       "    </tr>\n",
       "    <tr>\n",
       "      <th>1</th>\n",
       "      <td>2.492820</td>\n",
       "      <td>9.866570</td>\n",
       "      <td>9.736358</td>\n",
       "      <td>6.771285</td>\n",
       "      <td>0.016955</td>\n",
       "      <td>7.465910</td>\n",
       "      <td>3.816946</td>\n",
       "      <td>1.951413</td>\n",
       "    </tr>\n",
       "    <tr>\n",
       "      <th>2</th>\n",
       "      <td>1.622372</td>\n",
       "      <td>9.326157</td>\n",
       "      <td>8.082506</td>\n",
       "      <td>0.899307</td>\n",
       "      <td>1.546667</td>\n",
       "      <td>4.804727</td>\n",
       "      <td>1.154032</td>\n",
       "      <td>0.277183</td>\n",
       "    </tr>\n",
       "    <tr>\n",
       "      <th>3</th>\n",
       "      <td>-0.660985</td>\n",
       "      <td>5.095052</td>\n",
       "      <td>3.744128</td>\n",
       "      <td>11.492506</td>\n",
       "      <td>1.824994</td>\n",
       "      <td>4.158078</td>\n",
       "      <td>3.582508</td>\n",
       "      <td>3.086609</td>\n",
       "    </tr>\n",
       "    <tr>\n",
       "      <th>4</th>\n",
       "      <td>1.378348</td>\n",
       "      <td>8.870790</td>\n",
       "      <td>7.618862</td>\n",
       "      <td>0.234908</td>\n",
       "      <td>1.567325</td>\n",
       "      <td>3.015787</td>\n",
       "      <td>0.490518</td>\n",
       "      <td>0.079783</td>\n",
       "    </tr>\n",
       "  </tbody>\n",
       "</table>\n",
       "</div>"
      ],
      "text/plain": [
       "          x  y_actual  y_prediccion        SSR       SSD       SST    beta_n  \\\n",
       "0 -0.693116  5.621949      3.683081  11.910145  3.759213  2.286866  2.705403   \n",
       "1  2.492820  9.866570      9.736358   6.771285  0.016955  7.465910  3.816946   \n",
       "2  1.622372  9.326157      8.082506   0.899307  1.546667  4.804727  1.154032   \n",
       "3 -0.660985  5.095052      3.744128  11.492506  1.824994  4.158078  3.582508   \n",
       "4  1.378348  8.870790      7.618862   0.234908  1.567325  3.015787  0.490518   \n",
       "\n",
       "     beta_d  \n",
       "0  3.200540  \n",
       "1  1.951413  \n",
       "2  0.277183  \n",
       "3  3.086609  \n",
       "4  0.079783  "
      ]
     },
     "execution_count": 24,
     "metadata": {},
     "output_type": "execute_result"
    }
   ],
   "source": [
    "data.head()"
   ]
  },
  {
   "cell_type": "code",
   "execution_count": 25,
   "metadata": {},
   "outputs": [],
   "source": [
    "beta = sum(data[\"beta_n\"])/sum(data[\"beta_d\"])"
   ]
  },
  {
   "cell_type": "code",
   "execution_count": 26,
   "metadata": {},
   "outputs": [],
   "source": [
    "alpha = y_mean_ac - beta * x_mean"
   ]
  },
  {
   "cell_type": "code",
   "execution_count": 27,
   "metadata": {},
   "outputs": [
    {
     "data": {
      "text/plain": [
       "(5.0401850284708205, 1.9107789596365712)"
      ]
     },
     "execution_count": 27,
     "metadata": {},
     "output_type": "execute_result"
    }
   ],
   "source": [
    "alpha,beta"
   ]
  },
  {
   "cell_type": "markdown",
   "metadata": {},
   "source": [
    "El modelo optenido por regresion es : y = 5.173174026111522+ 0.30739087928306663 * $\\overline{x}$"
   ]
  },
  {
   "cell_type": "code",
   "execution_count": 28,
   "metadata": {},
   "outputs": [],
   "source": [
    "data[\"y_model\"] = alpha + beta*data[\"x\"]"
   ]
  },
  {
   "cell_type": "code",
   "execution_count": 29,
   "metadata": {},
   "outputs": [
    {
     "data": {
      "text/html": [
       "<div>\n",
       "<style scoped>\n",
       "    .dataframe tbody tr th:only-of-type {\n",
       "        vertical-align: middle;\n",
       "    }\n",
       "\n",
       "    .dataframe tbody tr th {\n",
       "        vertical-align: top;\n",
       "    }\n",
       "\n",
       "    .dataframe thead th {\n",
       "        text-align: right;\n",
       "    }\n",
       "</style>\n",
       "<table border=\"1\" class=\"dataframe\">\n",
       "  <thead>\n",
       "    <tr style=\"text-align: right;\">\n",
       "      <th></th>\n",
       "      <th>x</th>\n",
       "      <th>y_actual</th>\n",
       "      <th>y_prediccion</th>\n",
       "      <th>SSR</th>\n",
       "      <th>SSD</th>\n",
       "      <th>SST</th>\n",
       "      <th>beta_n</th>\n",
       "      <th>beta_d</th>\n",
       "      <th>y_model</th>\n",
       "    </tr>\n",
       "  </thead>\n",
       "  <tbody>\n",
       "    <tr>\n",
       "      <th>0</th>\n",
       "      <td>-0.693116</td>\n",
       "      <td>5.621949</td>\n",
       "      <td>3.683081</td>\n",
       "      <td>11.910145</td>\n",
       "      <td>3.759213</td>\n",
       "      <td>2.286866</td>\n",
       "      <td>2.705403</td>\n",
       "      <td>3.200540</td>\n",
       "      <td>3.715795</td>\n",
       "    </tr>\n",
       "    <tr>\n",
       "      <th>1</th>\n",
       "      <td>2.492820</td>\n",
       "      <td>9.866570</td>\n",
       "      <td>9.736358</td>\n",
       "      <td>6.771285</td>\n",
       "      <td>0.016955</td>\n",
       "      <td>7.465910</td>\n",
       "      <td>3.816946</td>\n",
       "      <td>1.951413</td>\n",
       "      <td>9.803413</td>\n",
       "    </tr>\n",
       "    <tr>\n",
       "      <th>2</th>\n",
       "      <td>1.622372</td>\n",
       "      <td>9.326157</td>\n",
       "      <td>8.082506</td>\n",
       "      <td>0.899307</td>\n",
       "      <td>1.546667</td>\n",
       "      <td>4.804727</td>\n",
       "      <td>1.154032</td>\n",
       "      <td>0.277183</td>\n",
       "      <td>8.140179</td>\n",
       "    </tr>\n",
       "    <tr>\n",
       "      <th>3</th>\n",
       "      <td>-0.660985</td>\n",
       "      <td>5.095052</td>\n",
       "      <td>3.744128</td>\n",
       "      <td>11.492506</td>\n",
       "      <td>1.824994</td>\n",
       "      <td>4.158078</td>\n",
       "      <td>3.582508</td>\n",
       "      <td>3.086609</td>\n",
       "      <td>3.777189</td>\n",
       "    </tr>\n",
       "    <tr>\n",
       "      <th>4</th>\n",
       "      <td>1.378348</td>\n",
       "      <td>8.870790</td>\n",
       "      <td>7.618862</td>\n",
       "      <td>0.234908</td>\n",
       "      <td>1.567325</td>\n",
       "      <td>3.015787</td>\n",
       "      <td>0.490518</td>\n",
       "      <td>0.079783</td>\n",
       "      <td>7.673904</td>\n",
       "    </tr>\n",
       "  </tbody>\n",
       "</table>\n",
       "</div>"
      ],
      "text/plain": [
       "          x  y_actual  y_prediccion        SSR       SSD       SST    beta_n  \\\n",
       "0 -0.693116  5.621949      3.683081  11.910145  3.759213  2.286866  2.705403   \n",
       "1  2.492820  9.866570      9.736358   6.771285  0.016955  7.465910  3.816946   \n",
       "2  1.622372  9.326157      8.082506   0.899307  1.546667  4.804727  1.154032   \n",
       "3 -0.660985  5.095052      3.744128  11.492506  1.824994  4.158078  3.582508   \n",
       "4  1.378348  8.870790      7.618862   0.234908  1.567325  3.015787  0.490518   \n",
       "\n",
       "     beta_d   y_model  \n",
       "0  3.200540  3.715795  \n",
       "1  1.951413  9.803413  \n",
       "2  0.277183  8.140179  \n",
       "3  3.086609  3.777189  \n",
       "4  0.079783  7.673904  "
      ]
     },
     "execution_count": 29,
     "metadata": {},
     "output_type": "execute_result"
    }
   ],
   "source": [
    "data.head()"
   ]
  },
  {
   "cell_type": "code",
   "execution_count": 30,
   "metadata": {},
   "outputs": [],
   "source": [
    "SSR= sum((data[\"y_model\"] - np.mean(data[\"y_actual\"]))**2)\n",
    "SSD = sum((data[\"y_model\"] -data[\"y_actual\"])**2)\n",
    "SST = sum((data[\"y_actual\"] - np.mean(data[\"y_actual\"]))**2)"
   ]
  },
  {
   "cell_type": "code",
   "execution_count": 31,
   "metadata": {},
   "outputs": [
    {
     "data": {
      "text/plain": [
       "(2113.3828480972666, 77.54836778504884, 2190.931215882317)"
      ]
     },
     "execution_count": 31,
     "metadata": {},
     "output_type": "execute_result"
    }
   ],
   "source": [
    "SSR,SSD,SST"
   ]
  },
  {
   "cell_type": "code",
   "execution_count": 32,
   "metadata": {},
   "outputs": [
    {
     "data": {
      "text/plain": [
       "0.9646048368735207"
      ]
     },
     "execution_count": 32,
     "metadata": {},
     "output_type": "execute_result"
    }
   ],
   "source": [
    "R2 = SSR/SST\n",
    "R2"
   ]
  },
  {
   "cell_type": "code",
   "execution_count": 33,
   "metadata": {},
   "outputs": [
    {
     "data": {
      "text/plain": [
       "Text(0.5, 1.0, 'Valor actual vs prediccion')"
      ]
     },
     "execution_count": 33,
     "metadata": {},
     "output_type": "execute_result"
    },
    {
     "data": {
      "image/png": "[encoded data removed]",
      "text/plain": [
       "<Figure size 432x288 with 1 Axes>"
      ]
     },
     "metadata": {
      "needs_background": "light"
     },
     "output_type": "display_data"
    }
   ],
   "source": [
    "%matplotlib inline\n",
    "plt.plot(data[\"x\"],y_pred)\n",
    "plt.plot(data[\"x\"],y_act,\"ro\")\n",
    "plt.plot(data[\"x\"],y_mean)\n",
    "plt.plot(data[\"x\"],data[\"y_model\"],\"g\")\n",
    "plt.title(\"Valor actual vs prediccion\")"
   ]
  },
  {
   "cell_type": "markdown",
   "metadata": {},
   "source": [
    "## El estadistico F \n",
    "### $ F = \\frac{\\frac{SSR}{K}}{\\frac{SSd}{n-K-1}} $"
   ]
  },
  {
   "cell_type": "markdown",
   "metadata": {},
   "source": [
    "## Error estandar residual \n",
    "\n",
    "### En caso de una regresion simple:  $RSE = \\sqrt\\frac{SSD}{n-2}$\n",
    "### En caso de una regresion multiple: $RSE = \\sqrt\\frac{SSD}{n-k-1}$\n"
   ]
  },
  {
   "cell_type": "code",
   "execution_count": 37,
   "metadata": {},
   "outputs": [
    {
     "data": {
      "text/plain": [
       "0.8895559990004234"
      ]
     },
     "execution_count": 37,
     "metadata": {},
     "output_type": "execute_result"
    }
   ],
   "source": [
    "RSE = np.sqrt(SSD/(len(data)-2))\n",
    "RSE"
   ]
  },
  {
   "cell_type": "code",
   "execution_count": 38,
   "metadata": {},
   "outputs": [
    {
     "data": {
      "text/plain": [
       "7.134188347485923"
      ]
     },
     "execution_count": 38,
     "metadata": {},
     "output_type": "execute_result"
    }
   ],
   "source": [
    "np.mean(data[\"y_actual\"])"
   ]
  },
  {
   "cell_type": "code",
   "execution_count": 40,
   "metadata": {},
   "outputs": [
    {
     "data": {
      "text/plain": [
       "0.12468916654182555"
      ]
     },
     "execution_count": 40,
     "metadata": {},
     "output_type": "execute_result"
    }
   ],
   "source": [
    "RSE/np.mean(data[\"y_actual\"]) #% DE ERROR DEL MODELO"
   ]
  },
  {
   "cell_type": "code",
   "execution_count": null,
   "metadata": {},
   "outputs": [],
   "source": []
  }
 ],
 "metadata": {
  "kernelspec": {
   "display_name": "Python 3",
   "language": "python",
   "name": "python3"
  },
  "language_info": {
   "codemirror_mode": {
    "name": "ipython",
    "version": 3
   },
   "file_extension": ".py",
   "mimetype": "text/x-python",
   "name": "python",
   "nbconvert_exporter": "python",
   "pygments_lexer": "ipython3",
   "version": "3.7.4"
  }
 },
 "nbformat": 4,
 "nbformat_minor": 2
}
